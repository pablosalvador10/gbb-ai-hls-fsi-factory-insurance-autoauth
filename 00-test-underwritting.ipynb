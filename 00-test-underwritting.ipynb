{
 "cells": [
  {
   "cell_type": "code",
   "execution_count": 1,
   "metadata": {},
   "outputs": [
    {
     "name": "stdout",
     "output_type": "stream",
     "text": [
      "Directory changed to c:\\Users\\pablosal\\Desktop\\gbb-ai-hls-fsi-factory-insurance-autoauth\n"
     ]
    }
   ],
   "source": [
    "import os\n",
    "from dotenv import load_dotenv\n",
    "from utils.ml_logging import get_logger\n",
    "\n",
    "# Initialize logging\n",
    "logger = get_logger()\n",
    "\n",
    "# Load environment variables from .env file\n",
    "load_dotenv()\n",
    "\n",
    "# Define the target directory\n",
    "target_directory = os.getcwd()  # change your directory here\n",
    "\n",
    "# Check if the directory exists\n",
    "if os.path.exists(target_directory):\n",
    "    # Change the current working directory\n",
    "    os.chdir(target_directory)\n",
    "    print(f\"Directory changed to {os.getcwd()}\")\n",
    "else:\n",
    "    print(f\"Directory {target_directory} does not exist.\")"
   ]
  },
  {
   "cell_type": "markdown",
   "metadata": {},
   "source": [
    "## **Approved Process**\n",
    "\n",
    "When an underwriting application is **Approved**, it means that the applicant has successfully met all the required criteria outlined in the underwriting guidelines. The approval process ensures that the policy can be issued without further delays or additional information. Below is a breakdown of the key steps involved in the approval process:\n",
    "\n",
    "1. **Validation of Criteria**:  \n",
    "   - All underwriting criteria, such as applicant details, driver information, vehicle data, and coverage selections, have been reviewed and found to be in full compliance with the policy guidelines.\n",
    "\n",
    "2. **Confirmation of Required Documentation**:  \n",
    "   - All necessary documents, such as proof of prior insurance, vehicle inspection forms, and signed disclosures, have been provided and verified.\n",
    "\n",
    "3. **Risk Assessment**:  \n",
    "   - The applicant and associated risks (e.g., driving history, vehicle type, garaging location) fall within acceptable thresholds as defined by the underwriting policy.\n",
    "\n",
    "4. **Policy Binding**:  \n",
    "   - The policy is officially bound, and the effective date is confirmed. Payment plans or full payment details are finalized.\n",
    "\n",
    "5. **Issuance of Policy Documents**:  \n",
    "   - The approved policy documents, including declarations, coverage details, and terms, are generated and sent to the applicant and agent."
   ]
  },
  {
   "cell_type": "markdown",
   "metadata": {},
   "source": [
    "### **1. Gather User Inputs** "
   ]
  },
  {
   "cell_type": "code",
   "execution_count": 2,
   "metadata": {},
   "outputs": [],
   "source": [
    "from src.pipeline.promptEngineering.models import (\n",
    "       AutoUnderwritingData,\n",
    "       PolicyLevelInformation,\n",
    "       ApplicantInformation,\n",
    "       DriverDetail,\n",
    "       VehicleDetail,\n",
    "       CoverageSelections,\n",
    "       DiscountInformation,\n",
    "       SurchargeInformation\n",
    "   )\n",
    "from src.pipeline.promptEngineering.prompt_manager import PromptManager\n",
    "\n",
    "\n",
    "policy_info = PolicyLevelInformation(\n",
    "    policy_effective_date=\"2025-01-01\",\n",
    "    policy_term=\"6 Months\",\n",
    "    policy_type=\"Standard Auto\",\n",
    "    binding_date_time=\"2024-12-25 14:00:00\",\n",
    "    policy_payment_plan=\"Paid in Full\",\n",
    "    applicant_signature=\"ApplicantSignature123\",\n",
    "    agent_signature=\"AgentSignatureABC\",\n",
    "    um_uim_form=\"UM/UIM Accepted\",\n",
    "    named_driver_exclusion_form=\"None\",\n",
    "    misrep_disclosure=\"DisclosureAcknowledged\"\n",
    ")\n",
    "\n",
    "applicant_info = ApplicantInformation(\n",
    "    applicant_name=\"John Doe\",\n",
    "    applicant_dob=\"1980-05-15\",\n",
    "    applicant_id=\"JD123456\",\n",
    "    applicant_address=\"123 Main St, Columbus, OH 43215\",\n",
    "    applicant_mailing_address=\"PO Box 789, Columbus, OH 43216\",\n",
    "    applicant_phone=\"(614) 555-1212\",\n",
    "    applicant_email=\"john.doe@example.com\",\n",
    "    applicant_ssn=\"XXX-XX-1234\",\n",
    "    applicant_marital_status=\"Married\",\n",
    "    applicant_military_status=\"Active Duty In-State\",\n",
    "    applicant_homeowner_status=\"Yes\"\n",
    ")\n",
    "\n",
    "driver_info = [\n",
    "    DriverDetail(\n",
    "        driver_name=\"John Doe\",\n",
    "        driver_dob=\"1980-05-15\",\n",
    "        driver_relationship=\"Self\",\n",
    "        driver_license_state=\"OH\",\n",
    "        driver_license_number=\"D123-4567-8901\",\n",
    "        driver_license_status=\"Valid\",\n",
    "        driver_sr22=\"No\",\n",
    "        driver_accident_violation_history=\"1 speeding ticket in last 12 months\",\n",
    "        driver_military_status=\"Active\",\n",
    "        driver_excluded=\"No\"\n",
    "    ),\n",
    "    DriverDetail(\n",
    "        driver_name=\"Jane Doe\",\n",
    "        driver_dob=\"1982-07-20\",\n",
    "        driver_relationship=\"Spouse\",\n",
    "        driver_license_state=\"OH\",\n",
    "        driver_license_number=\"D987-6543-2100\",\n",
    "        driver_license_status=\"Valid\",\n",
    "        driver_sr22=\"No\",\n",
    "        driver_accident_violation_history=\"No accidents/violations\",\n",
    "        driver_military_status=\"None\",\n",
    "        driver_excluded=\"No\"\n",
    "    )\n",
    "]\n",
    "\n",
    "vehicle_info = [\n",
    "    VehicleDetail(\n",
    "        vehicle_year=\"2022\",\n",
    "        vehicle_make=\"Toyota\",\n",
    "        vehicle_model=\"Camry\",\n",
    "        vehicle_vin=\"1ABC123DEF4567890\",\n",
    "        vehicle_ownership=\"Named Insured\",\n",
    "        vehicle_garaging_address=\"123 Main St, Columbus, OH 43215\",\n",
    "        vehicle_usage=\"Commute\",\n",
    "        vehicle_existing_damage=\"None\",\n",
    "        vehicle_age=\"1\",\n",
    "        vehicle_modifications=\"None\",\n",
    "        vehicle_salvage_title=\"No\",\n",
    "        vehicle_months_in_ohio=\"12\",\n",
    "        vehicle_class=\"Sedan\",\n",
    "        vehicle_prohibited_make=\"No\"\n",
    "    )\n",
    "]\n",
    "\n",
    "coverage_selections = CoverageSelections(\n",
    "    coverage_liability_limits=\"25/50/25\",\n",
    "    coverage_um_uim=\"Accepted (25/50)\",\n",
    "    coverage_comp_deductible=\"$500\",\n",
    "    coverage_collision_deductible=\"$500\",\n",
    "    coverage_comp_collision_eligible=\"Yes\",\n",
    "    coverage_um_pd=\"$7,500\",\n",
    "    coverage_med_pay=\"$1,000\",\n",
    "    coverage_rental=\"$30/day ($900 max)\",\n",
    "    coverage_towing=\"$75 per disablement\",\n",
    "    coverage_custom_equip=\"None\"\n",
    ")\n",
    "\n",
    "discounts = DiscountInformation(\n",
    "    discount_prior_insurance=\"Yes (proof attached)\",\n",
    "    discount_homeowner_proof=\"Yes (mortgage statement)\",\n",
    "    discount_military_proof=\"Provided (Active ID)\",\n",
    "    discount_senior_defensive_driver=\"No\",\n",
    "    discount_auto_pay=\"Yes (EFT)\",\n",
    "    discount_paid_in_full=\"Yes\",\n",
    "    discount_advance_purchase=\"Bound 5 days before effective date\"\n",
    ")\n",
    "\n",
    "surcharges = SurchargeInformation(\n",
    "    surcharge_license_status=\"No surcharge\",\n",
    "    surcharge_at_fault_accidents=\"No at-fault accidents\",\n",
    "    surcharge_major_violations=\"None\",\n",
    "    surcharge_sr22=\"No\",\n",
    "    surcharge_policy_activity=\"No prior cancellations\",\n",
    "    surcharge_unacceptable_risk=\"No\"\n",
    ")\n",
    "\n"
   ]
  },
  {
   "cell_type": "markdown",
   "metadata": {},
   "source": [
    "### **2. Gather policy**"
   ]
  },
  {
   "cell_type": "code",
   "execution_count": 3,
   "metadata": {},
   "outputs": [
    {
     "name": "stderr",
     "output_type": "stream",
     "text": [
      "2025-04-01 13:06:17,698 - micro - MainProcess - INFO     Container 'pre-auth-policies' already exists. (blob_helper.py:_create_container_if_not_exists:89)\n",
      "2025-04-01 13:06:17,699 - micro - MainProcess - INFO     Blob URL detected. Extracting content. (document_intelligence_helper.py:analyze_document:78)\n",
      "2025-04-01 13:06:18,042 - micro - MainProcess - INFO     Downloaded blob 'OH-MGA-Personal-Auto-Program-Rules-Manual.pdf' as bytes. (blob_helper.py:download_blob_to_bytes:311)\n"
     ]
    }
   ],
   "source": [
    "from src.documentintelligence.document_intelligence_helper import AzureDocumentIntelligenceManager\n",
    "text_extractor = AzureDocumentIntelligenceManager()\n",
    "policy_raw_text_markdown = text_extractor.analyze_document(document_input=\"https://storageaeastusfactory.blob.core.windows.net/insurance-policies/OH-MGA-Personal-Auto-Program-Rules-Manual.pdf\", \n",
    "                                model_type=\"prebuilt-layout\")"
   ]
  },
  {
   "cell_type": "markdown",
   "metadata": {},
   "source": [
    "### **3. Build Prompts**"
   ]
  },
  {
   "cell_type": "code",
   "execution_count": 4,
   "metadata": {},
   "outputs": [
    {
     "name": "stdout",
     "output_type": "stream",
     "text": [
      "Templates in c:\\Users\\pablosal\\Desktop\\gbb-ai-hls-fsi-factory-insurance-autoauth\\src\\pipeline\\promptEngineering\\templates: ['underwriting_o1_system_prompt.jinja', 'underwriting_o1_user_prompt.jinja']\n"
     ]
    }
   ],
   "source": [
    "auto_data = AutoUnderwritingData(\n",
    "    policy_level=policy_info,\n",
    "    applicant_info=applicant_info,\n",
    "    driver_info=driver_info,\n",
    "    vehicle_info=vehicle_info,\n",
    "    coverage_selections=coverage_selections,\n",
    "    discounts=discounts,\n",
    "    surcharges=surcharges,\n",
    "    policy_text=policy_raw_text_markdown.content\n",
    ")\n",
    "\n",
    "prompt_manager = PromptManager(template_dir=\"templates\")\n",
    "\n",
    "try:\n",
    "    underwriting_user_prompt = prompt_manager.create_prompt_auto_user_underwriting(auto_data)\n",
    "except Exception as e:\n",
    "    print(f\"Error generating prompt: {e}\")"
   ]
  },
  {
   "cell_type": "markdown",
   "metadata": {},
   "source": [
    "### **4. Run Auto Underwriting**"
   ]
  },
  {
   "cell_type": "code",
   "execution_count": 6,
   "metadata": {},
   "outputs": [],
   "source": [
    "from src.aoai.aoai_helper import AzureOpenAIManager\n",
    "llm = AzureOpenAIManager(api_version=os.getenv(\"AZURE_OPENAI_API_VERSION_01\"),\n",
    "                        chat_model_name=os.getenv(\"AZURE_OPENAI_CHAT_DEPLOYMENT_01\"))"
   ]
  },
  {
   "cell_type": "code",
   "execution_count": 7,
   "metadata": {},
   "outputs": [
    {
     "name": "stderr",
     "output_type": "stream",
     "text": [
      "2025-04-01 13:06:48,187 - micro - MainProcess - INFO     Function generate_chat_response_o1 started at 2025-04-01 13:06:48 (aoai_helper.py:generate_chat_response_o1:274)\n",
      "2025-04-01 13:06:48,189 - micro - MainProcess - INFO     Sending request to Azure OpenAI at 2025-04-01 13:06:48 (aoai_helper.py:generate_chat_response_o1:282)\n",
      "2025-04-01 13:07:12,111 - micro - MainProcess - INFO     Model_used: o1-2024-12-17 (aoai_helper.py:generate_chat_response_o1:306)\n",
      "2025-04-01 13:07:12,113 - micro - MainProcess - INFO     Function generate_chat_response_o1 finished at 2025-04-01 13:07:12 (Duration: 23.93 seconds) (aoai_helper.py:generate_chat_response_o1:315)\n"
     ]
    }
   ],
   "source": [
    "underwriting_decision = await llm.generate_chat_response_o1(query=underwriting_user_prompt)"
   ]
  },
  {
   "cell_type": "code",
   "execution_count": 8,
   "metadata": {},
   "outputs": [
    {
     "name": "stdout",
     "output_type": "stream",
     "text": [
      "Underwriting Decision  \n",
      "Approved  \n",
      "\n",
      "Rationale  \n",
      "\n",
      "1. Summary of Findings  \n",
      "   The applicant, John Doe, and his spouse, Jane Doe, meet all the stated underwriting criteria. They both hold valid Ohio driver’s licenses, the single speeding ticket for John is within acceptable limits, the 2022 Toyota Camry is neither an older model nor an unacceptable make/model, and all required documentation for discounts (prior insurance, homeownership, military status, etc.) is provided. There are no apparent violations of the Unacceptable Risk guidelines, and the policy requirements for binding and documentation appear fully satisfied.\n",
      "\n",
      "2. Detailed Analysis  \n",
      "\n",
      "   Policy Criteria Assessment  \n",
      "   a) Criterion: “All information must be submitted using GAINSCOconnect.com; application must be complete, signed, with necessary documentation.”  \n",
      "      • Assessment: Fully Met  \n",
      "      • Evidence: Application is signed by both applicant (ApplicantSignature123) and agent (AgentSignatureABC). UM/UIM acceptance is documented. The submission includes proof of prior insurance, homeowner documents, and military ID.  \n",
      "      • Policy Reference: Binding Authority – New Business; Agent Duties (pp. 4–5)\n",
      "\n",
      "   b) Criterion: “Vehicles must not be listed as unacceptable, must be garaged at the address stated, and titled to the named insured or spouse.”  \n",
      "      • Assessment: Fully Met  \n",
      "      • Evidence: The 2022 Toyota Camry is garaged at the residential address (123 Main St, Columbus, OH 43215), titled to the named insured/spouse, and is not on the unacceptable vehicle list.  \n",
      "      • Policy Reference: Unacceptable Vehicles (p. 8)\n",
      "\n",
      "   c) Criterion: “Drivers must be validly licensed in Ohio unless military stationed out-of-state; must not exceed major or at-fault accident thresholds.”  \n",
      "      • Assessment: Fully Met  \n",
      "      • Evidence: John and Jane Doe each hold valid OH licenses with no major violations. John has one minor speeding ticket in the last 12 months, which is within acceptable limits under “Unacceptable Drivers.”  \n",
      "      • Policy Reference: Unacceptable Drivers (pp. 9–10)\n",
      "\n",
      "   d) Criterion: “Physical Damage coverage requires vehicle inspection if there is existing damage.”  \n",
      "      • Assessment: Fully Met  \n",
      "      • Evidence: The vehicle reportedly has no existing damage. Therefore, no inspection form/photos are required.  \n",
      "      • Policy Reference: Vehicle Inspections (p. 6)\n",
      "\n",
      "   e) Criterion: “Discount eligibility (Prior Insurance, Homeowner, Military, etc.) requires proof.”  \n",
      "      • Assessment: Fully Met  \n",
      "      • Evidence: Applicant provided proof of prior insurance, mortgage statement for homeowner discount, and active military ID.  \n",
      "      • Policy Reference: Discounts Requiring Documentation (pp. 11–12)\n",
      "\n",
      "   f) Criterion: “Coverage limits and required forms must comply with state minimums and program rules.”  \n",
      "      • Assessment: Fully Met  \n",
      "      • Evidence: Liability of 25/50/25 matches minimum requirements. UM/UIM coverage is 25/50 accepted, and the signed acceptance is on file. Comprehensive/Collision deductibles meet guidelines.  \n",
      "      • Policy Reference: Coverages & Limits (p. 7)\n",
      "\n",
      "   g) Criterion: “Payment of premium and fees must be collected and policy bound correctly.”  \n",
      "      • Assessment: Fully Met  \n",
      "      • Evidence: Paid in full plan with EFT discount is indicated. No mention of payment issues or NSF.  \n",
      "      • Policy Reference: Premium Installment Plans; Binding Authority – New Business (pp. 4, 15)\n",
      "\n",
      "3. Missing Information  \n",
      "   None. All required documentation and disclosures appear to be on file.  \n",
      "\n",
      "Because the applicant satisfies all key underwriting requirements—acceptable drivers, eligible vehicle, proper documentation, and verified discounts—the application is Approved.\n"
     ]
    }
   ],
   "source": [
    "print(underwriting_decision['response'])"
   ]
  },
  {
   "cell_type": "markdown",
   "metadata": {},
   "source": [
    "## **Denied Process**\n",
    "\n",
    "When an underwriting application is **Denied**, it means that the applicant has failed to meet one or more of the required criteria outlined in the underwriting guidelines. The denial process ensures that the decision is communicated clearly and that the reasons for denial are well-documented. Below is a breakdown of the key steps involved in the denial process:\n",
    "\n",
    "1. **Identification of Non-Compliance**:  \n",
    "   - Specific underwriting criteria that were not met are identified, such as unacceptable driving history, prohibited vehicle types, missing documentation, or other policy violations.\n",
    "\n",
    "2. **Documentation of Reasons for Denial**:  \n",
    "   - A detailed explanation of the reasons for denial is prepared, referencing the specific underwriting guidelines or criteria that were not satisfied.  \n",
    "   - Examples include:  \n",
    "     - **Driver History**: Excessive violations or at-fault accidents.  \n",
    "     - **Vehicle Issues**: Prohibited make/model or salvage/branded title.  \n",
    "     - **Missing Information**: Required documents such as proof of prior insurance or signed disclosures were not provided.\n",
    "\n",
    "3. **Risk Assessment Confirmation**:  \n",
    "   - The applicant's risk profile is reviewed to ensure that the denial aligns with the underwriting policy and is not based on incomplete or incorrect data.\n",
    "\n",
    "4. **Communication of Denial**:  \n",
    "   - The applicant and agent are notified of the denial decision in a clear and professional manner.  \n",
    "   - The communication includes:  \n",
    "     - A summary of the reasons for denial.  \n",
    "     - Any potential steps the applicant can take to address the issues (if applicable).  \n",
    "     - Contact information for further inquiries.\n",
    "\n",
    "5. **Record Keeping**:  \n",
    "   - The denial decision, along with supporting documentation and rationale, is recorded in the underwriting system for future reference and compliance purposes.\n",
    "\n",
    "By following this process, the insurer ensures that denial decisions are fair, transparent, and compliant with underwriting standards while maintaining professionalism in communication."
   ]
  },
  {
   "cell_type": "code",
   "execution_count": 25,
   "metadata": {},
   "outputs": [],
   "source": [
    "from src.pipeline.promptEngineering.models import (\n",
    "       AutoUnderwritingData,\n",
    "       PolicyLevelInformation,\n",
    "       ApplicantInformation,\n",
    "       DriverDetail,\n",
    "       VehicleDetail,\n",
    "       CoverageSelections,\n",
    "       DiscountInformation,\n",
    "       SurchargeInformation\n",
    "   )\n",
    "from src.pipeline.promptEngineering.prompt_manager import PromptManager\n",
    "\n",
    "\n",
    "policy_info = PolicyLevelInformation(\n",
    "    policy_effective_date=\"2025-01-01\",\n",
    "    policy_term=\"6 Months\",\n",
    "    policy_type=\"Standard Auto\",\n",
    "    binding_date_time=\"2024-12-25 14:00:00\",\n",
    "    policy_payment_plan=\"Paid in Full\",\n",
    "    applicant_signature=\"ApplicantSignature123\",\n",
    "    agent_signature=\"AgentSignatureABC\",\n",
    "    um_uim_form=\"UM/UIM Accepted\",\n",
    "    named_driver_exclusion_form=\"None\",\n",
    "    misrep_disclosure=\"DisclosureAcknowledged\"\n",
    ")\n",
    "\n",
    "applicant_info = ApplicantInformation(\n",
    "    applicant_name=\"John Doe\",\n",
    "    applicant_dob=\"1980-05-15\",\n",
    "    applicant_id=\"JD123456\",\n",
    "    applicant_address=\"123 Main St, Columbus, OH 43215\",\n",
    "    applicant_mailing_address=\"PO Box 789, Columbus, OH 43216\",\n",
    "    applicant_phone=\"(614) 555-1212\",\n",
    "    applicant_email=\"john.doe@example.com\",\n",
    "    applicant_ssn=\"XXX-XX-1234\",\n",
    "    applicant_marital_status=\"Married\",\n",
    "    applicant_military_status=\"Active Duty In-State\",\n",
    "    applicant_homeowner_status=\"Yes\"\n",
    ")\n",
    "\n",
    "driver_info = [\n",
    "    DriverDetail(\n",
    "        driver_name=\"John Doe\",\n",
    "        driver_dob=\"1980-05-15\",\n",
    "        driver_relationship=\"Self\",\n",
    "        driver_license_state=\"OH\",\n",
    "        driver_license_number=\"D123-4567-8901\",\n",
    "        driver_license_status=\"Valid\",\n",
    "        driver_sr22=\"No\",\n",
    "        driver_accident_violation_history=\"1 speeding ticket in last 12 months\",\n",
    "        driver_military_status=\"Active\",\n",
    "        driver_excluded=\"No\"\n",
    "    ),\n",
    "    DriverDetail(\n",
    "        driver_name=\"Jane Doe\",\n",
    "        driver_dob=\"1982-07-20\",\n",
    "        driver_relationship=\"Spouse\",\n",
    "        driver_license_state=\"OH\",\n",
    "        driver_license_number=\"D987-6543-2100\",\n",
    "        driver_license_status=\"Valid\",\n",
    "        driver_sr22=\"No\",\n",
    "        driver_accident_violation_history=\"No accidents/violations\",\n",
    "        driver_military_status=\"None\",\n",
    "        driver_excluded=\"No\"\n",
    "    )\n",
    "]\n",
    "\n",
    "vehicle_info = [\n",
    "    VehicleDetail(\n",
    "        vehicle_year=\"2022\",\n",
    "        vehicle_make=\"Toyota\",\n",
    "        vehicle_model=\"Camry\",\n",
    "        vehicle_vin=\"1ABC123DEF4567890\",\n",
    "        vehicle_ownership=\"Named Insured\",\n",
    "        vehicle_garaging_address=\"123 Main St, Columbus, OH 43215\",\n",
    "        vehicle_usage=\"Commute\",\n",
    "        vehicle_existing_damage=\"None\",\n",
    "        vehicle_age=\"1\",\n",
    "        vehicle_modifications=\"None\",\n",
    "        vehicle_salvage_title=\"No\",\n",
    "        vehicle_months_in_ohio=\"8\",  # Not garaged in Ohio 10+ months\n",
    "        vehicle_class=\"Sedan\",\n",
    "        vehicle_prohibited_make=\"No\"\n",
    "    )\n",
    "]\n",
    "\n",
    "coverage_selections = CoverageSelections(\n",
    "    coverage_liability_limits=\"25/50/25\",\n",
    "    coverage_um_uim=\"Accepted (25/50)\",\n",
    "    coverage_comp_deductible=\"$500\",\n",
    "    coverage_collision_deductible=\"$500\",\n",
    "    coverage_comp_collision_eligible=\"Yes\",\n",
    "    coverage_um_pd=\"$7,500\",\n",
    "    coverage_med_pay=\"$1,000\",\n",
    "    coverage_rental=\"$30/day ($900 max)\",\n",
    "    coverage_towing=\"$75 per disablement\",\n",
    "    coverage_custom_equip=\"$2,000\"   # Additional equipment coverage (wheels/stereo)\n",
    ")\n",
    "\n",
    "discounts = DiscountInformation(\n",
    "    discount_prior_insurance=\"Yes (proof attached)\",\n",
    "    discount_homeowner_proof=\"Yes (mortgage statement)\",\n",
    "    discount_military_proof=\"Provided (Active ID)\",\n",
    "    discount_senior_defensive_driver=\"No\",\n",
    "    discount_auto_pay=\"Yes (EFT)\",\n",
    "    discount_paid_in_full=\"Yes\",\n",
    "    discount_advance_purchase=\"Bound 5 days before effective date\"\n",
    ")\n",
    "\n",
    "surcharges = SurchargeInformation(\n",
    "    surcharge_license_status=\"No surcharge\",\n",
    "    surcharge_at_fault_accidents=\"No at-fault accidents\",\n",
    "    surcharge_major_violations=\"None\",\n",
    "    surcharge_sr22=\"No\",\n",
    "    surcharge_policy_activity=\"No prior cancellations\",\n",
    "    surcharge_unacceptable_risk=\"No\"\n",
    ")\n",
    "\n"
   ]
  },
  {
   "cell_type": "code",
   "execution_count": 26,
   "metadata": {},
   "outputs": [
    {
     "name": "stdout",
     "output_type": "stream",
     "text": [
      "Templates in c:\\Users\\pablosal\\Desktop\\gbb-ai-hls-fsi-factory-insurance-autoauth\\src\\pipeline\\promptEngineering\\templates: ['underwriting_o1_system_prompt.jinja', 'underwriting_o1_user_prompt.jinja']\n"
     ]
    }
   ],
   "source": [
    "auto_data = AutoUnderwritingData(\n",
    "    policy_level=policy_info,\n",
    "    applicant_info=applicant_info,\n",
    "    driver_info=driver_info,\n",
    "    vehicle_info=vehicle_info,\n",
    "    coverage_selections=coverage_selections,\n",
    "    discounts=discounts,\n",
    "    surcharges=surcharges,\n",
    "    policy_text=policy_raw_text_markdown.content\n",
    ")\n",
    "\n",
    "prompt_manager = PromptManager(template_dir=\"templates\")\n",
    "\n",
    "try:\n",
    "    underwriting_user_prompt = prompt_manager.create_prompt_auto_user_underwriting(auto_data)\n",
    "except Exception as e:\n",
    "    print(f\"Error generating prompt: {e}\")"
   ]
  },
  {
   "cell_type": "code",
   "execution_count": 27,
   "metadata": {},
   "outputs": [],
   "source": [
    "from src.aoai.aoai_helper import AzureOpenAIManager\n",
    "llm = AzureOpenAIManager(api_version=os.getenv(\"AZURE_OPENAI_API_VERSION_01\"),\n",
    "                        chat_model_name=os.getenv(\"AZURE_OPENAI_CHAT_DEPLOYMENT_01\"))"
   ]
  },
  {
   "cell_type": "code",
   "execution_count": 28,
   "metadata": {},
   "outputs": [
    {
     "name": "stderr",
     "output_type": "stream",
     "text": [
      "2025-04-01 14:18:12,397 - micro - MainProcess - INFO     Function generate_chat_response_o1 started at 2025-04-01 14:18:12 (aoai_helper.py:generate_chat_response_o1:274)\n",
      "2025-04-01 14:18:12,400 - micro - MainProcess - INFO     Sending request to Azure OpenAI at 2025-04-01 14:18:12 (aoai_helper.py:generate_chat_response_o1:282)\n",
      "2025-04-01 14:18:28,823 - micro - MainProcess - INFO     Model_used: o1-2024-12-17 (aoai_helper.py:generate_chat_response_o1:306)\n",
      "2025-04-01 14:18:28,826 - micro - MainProcess - INFO     Function generate_chat_response_o1 finished at 2025-04-01 14:18:28 (Duration: 16.43 seconds) (aoai_helper.py:generate_chat_response_o1:315)\n"
     ]
    }
   ],
   "source": [
    "underwriting_decision = await llm.generate_chat_response_o1(query=underwriting_user_prompt)"
   ]
  },
  {
   "cell_type": "code",
   "execution_count": 29,
   "metadata": {},
   "outputs": [
    {
     "name": "stdout",
     "output_type": "stream",
     "text": [
      "Underwriting Decision  \n",
      "Denied  \n",
      "\n",
      "Rationale  \n",
      "\n",
      "1. Summary of Findings  \n",
      "   Although most underwriting requirements are satisfied, the vehicle fails the mandatory “10 months in Ohio” garaging requirement. The applicant states the Toyota Camry is garaged in Ohio only 8 months per year, which explicitly appears as an unacceptable risk in the underwriting guidelines.\n",
      "\n",
      "2. Detailed Analysis  \n",
      "\n",
      "   Policy Criteria Assessment  \n",
      "\n",
      "   • Criterion: “Vehicles garaged in Ohio less than 10 months per year are unacceptable.”  \n",
      "     – Assessment: Not Met  \n",
      "     – Evidence: The application specifies the vehicle is garaged in Ohio for only 8 months.  \n",
      "     – Policy Reference: “Vehicles,” Under “Unacceptable Vehicles” (p. 8), which states “Vehicles garaged in Ohio less than 10 months per year” are unacceptable.\n",
      "\n",
      "   All other criteria—such as valid driver licensing, prior insurance, required signatures, and discount documentation—appear to be met. However, the 8-month garaging status directly conflicts with the 10-month requirement.\n",
      "\n",
      "3. Missing Information  \n",
      "   None. The applicant’s stated 8 months in Ohio is already out of compliance, and no additional documents would remedy this unacceptable garaging duration.\n",
      "\n",
      "Since the vehicle does not meet the required 10-month minimum residence in Ohio, the application is Denied.\n"
     ]
    }
   ],
   "source": [
    "print(underwriting_decision['response'])"
   ]
  }
 ],
 "metadata": {
  "kernelspec": {
   "display_name": "pa-ai-env",
   "language": "python",
   "name": "python3"
  },
  "language_info": {
   "codemirror_mode": {
    "name": "ipython",
    "version": 3
   },
   "file_extension": ".py",
   "mimetype": "text/x-python",
   "name": "python",
   "nbconvert_exporter": "python",
   "pygments_lexer": "ipython3",
   "version": "3.10.15"
  }
 },
 "nbformat": 4,
 "nbformat_minor": 2
}
